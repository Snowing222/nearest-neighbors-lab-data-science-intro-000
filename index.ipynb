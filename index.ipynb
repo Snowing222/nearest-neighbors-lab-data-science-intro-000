{
 "cells": [
  {
   "cell_type": "markdown",
   "metadata": {},
   "source": [
    "# Nearest Neighbors Lab"
   ]
  },
  {
   "cell_type": "markdown",
   "metadata": {},
   "source": [
    "### Introduction\n",
    "\n",
    "In this lab, you apply nearest neighbors technique to help a taxi company predict the length of their rides.  Imagine that we are hired to consult for LiftOff, a limo and taxi service that is just opening up in NYC.  Liftoff wants it's taxi drivers to target longer rides, as the longer the ride the more money it makes.  LiftOff has the following theory:\n",
    "\n",
    "* the pickup location of a taxi ride can help predict the length of the ride.  \n",
    "\n",
    "\n",
    "\n",
    "LiftOff asks us to do some analysis to write a function that will allow it to **predict the length of a taxi ride for any given location **.\n",
    "\n",
    "Our technique will be the following:\n",
    "  * **Collect** Obtain the data containing all of the taxi information, and only select the attributes of taxi trips that we need \n",
    "  * ** Explore ** Examine the attributes of our data, and plot some of our data on a map\n",
    "  * ** Train ** Write our nearest neighbors formula, and change the number of nearby trips to predict the length of a new trip\n",
    "  * ** Predict ** Use our function to predict trip lengths of new locations"
   ]
  },
  {
   "cell_type": "markdown",
   "metadata": {},
   "source": [
    "### Collect and Explore the data"
   ]
  },
  {
   "cell_type": "markdown",
   "metadata": {},
   "source": [
    "#### Collect the Data"
   ]
  },
  {
   "cell_type": "markdown",
   "metadata": {},
   "source": [
    "Luckily for us, [NYC Open Data](https://opendata.cityofnewyork.us/) collects information about NYC taxi trips and provides this data on [its website](https://data.cityofnewyork.us/Transportation/2014-Yellow-Taxi-Trip-Data/gn7m-em8n)."
   ]
  },
  {
   "cell_type": "markdown",
   "metadata": {},
   "source": [
    "![](./nyc-taxi.png)"
   ]
  },
  {
   "cell_type": "markdown",
   "metadata": {},
   "source": [
    "For your reading pleasure, the data has already been downloaded into the [trips.json](https://github.com/learn-co-curriculum/nearest-neighbors-lab/blob/master/trips.json) file in this lab which you can find here.  We'll use Python's `json` library to take the data from the `trips.json` file and store it as a variable in our notebook."
   ]
  },
  {
   "cell_type": "code",
   "execution_count": 3,
   "metadata": {},
   "outputs": [],
   "source": [
    "import json\n",
    "# First, read the file\n",
    "trips_file = open('trips.json')\n",
    "# Then, convert contents to list of dictionaries \n",
    "trips = json.load(trips_file)"
   ]
  },
  {
   "cell_type": "markdown",
   "metadata": {},
   "source": [
    "> Press shift + enter"
   ]
  },
  {
   "cell_type": "markdown",
   "metadata": {},
   "source": [
    "#### Explore the data"
   ]
  },
  {
   "cell_type": "markdown",
   "metadata": {},
   "source": [
    "The next step is to explore the data.  First, let's see how many trips we have."
   ]
  },
  {
   "cell_type": "code",
   "execution_count": 4,
   "metadata": {},
   "outputs": [
    {
     "data": {
      "text/plain": [
       "1000"
      ]
     },
     "execution_count": 4,
     "metadata": {},
     "output_type": "execute_result"
    }
   ],
   "source": [
    "len(trips)"
   ]
  },
  {
   "cell_type": "markdown",
   "metadata": {},
   "source": [
    "Not bad at all.  Now let's see what each individual trip looks like.  Each trip is a dictionary, so we can see the attributes of each trip with the `keys` function."
   ]
  },
  {
   "cell_type": "code",
   "execution_count": 7,
   "metadata": {
    "scrolled": true
   },
   "outputs": [
    {
     "data": {
      "text/plain": [
       "{'dropoff_datetime': '2014-11-26T22:31:00.000',\n",
       " 'dropoff_latitude': '40.746769999999998',\n",
       " 'dropoff_longitude': '-73.997450000000001',\n",
       " 'fare_amount': '52',\n",
       " 'imp_surcharge': '0',\n",
       " 'mta_tax': '0.5',\n",
       " 'passenger_count': '1',\n",
       " 'payment_type': 'CSH',\n",
       " 'pickup_datetime': '2014-11-26T21:59:00.000',\n",
       " 'pickup_latitude': '40.64499',\n",
       " 'pickup_longitude': '-73.781149999999997',\n",
       " 'rate_code': '2',\n",
       " 'tip_amount': '0',\n",
       " 'tolls_amount': '5.3300000000000001',\n",
       " 'total_amount': '57.829999999999998',\n",
       " 'trip_distance': '18.379999999999999',\n",
       " 'vendor_id': 'VTS'}"
      ]
     },
     "execution_count": 7,
     "metadata": {},
     "output_type": "execute_result"
    }
   ],
   "source": [
    "trips[0]"
   ]
  },
  {
   "cell_type": "markdown",
   "metadata": {},
   "source": [
    "#### Limit our data"
   ]
  },
  {
   "cell_type": "markdown",
   "metadata": {},
   "source": [
    "Ok, now that we have explored some of our data, let's begin to think through what data is relevant for our task."
   ]
  },
  {
   "cell_type": "markdown",
   "metadata": {
    "collapsed": true
   },
   "source": [
    "Remember that our task is to **use the trip location to predict the length of a trip**.  So let's select the `pickup_latitude`, `pickup_longitude`, and `trip_distance` from each trip.  That will give us the trip location and related `trip_distance` for each trip.  Then based on these **actual** trip distances we can use nearest neighbors to predict an **expected** trip distance for a trip, provided an **actual** location."
   ]
  },
  {
   "cell_type": "markdown",
   "metadata": {},
   "source": [
    "** Add in about trip distance ** "
   ]
  },
  {
   "cell_type": "markdown",
   "metadata": {},
   "source": [
    "Write a function called `parse_trips(trips)` that returns a list of the trips with only the following attributes: \n",
    "* `trip_distance`\n",
    "* `pickup_latitude`\n",
    "* `pickup_longitude`"
   ]
  },
  {
   "cell_type": "code",
   "execution_count": 90,
   "metadata": {},
   "outputs": [
    {
     "data": {
      "text/plain": [
       "[{'pickup_latitude': '40.64499',\n",
       "  'pickup_longitude': '-73.781149999999997',\n",
       "  'trip_distance': '18.379999999999999'},\n",
       " {'pickup_latitude': '40.766931',\n",
       "  'pickup_longitude': '-73.982097999999993',\n",
       "  'trip_distance': '1.3'},\n",
       " {'pickup_latitude': '40.777729999999998',\n",
       "  'pickup_longitude': '-73.951902000000004',\n",
       "  'trip_distance': '4.5'},\n",
       " {'pickup_latitude': '40.795678000000002',\n",
       "  'pickup_longitude': '-73.971048999999994',\n",
       "  'trip_distance': '2.3999999999999999'},\n",
       " {'pickup_latitude': '40.762912',\n",
       "  'pickup_longitude': '-73.967782',\n",
       "  'trip_distance': '0.83999999999999997'},\n",
       " {'pickup_latitude': '40.731175999999998',\n",
       "  'pickup_longitude': '-73.991572000000005',\n",
       "  'trip_distance': '0.80000000000000004'},\n",
       " {'pickup_latitude': '40.800218999999998',\n",
       "  'pickup_longitude': '-73.968097999999998',\n",
       "  'trip_distance': '0.5'},\n",
       " {'pickup_latitude': '40.648508999999997',\n",
       "  'pickup_longitude': '-73.783507999999998',\n",
       "  'trip_distance': '17.300000000000001'},\n",
       " {'pickup_latitude': '40.721896999999998',\n",
       "  'pickup_longitude': '-73.983492999999996',\n",
       "  'trip_distance': '0.63'},\n",
       " {'pickup_latitude': '40.791566000000003',\n",
       "  'pickup_longitude': '-73.972223999999997',\n",
       "  'trip_distance': '2.7999999999999998'},\n",
       " {'pickup_latitude': '40.744895999999997',\n",
       "  'pickup_longitude': '-73.978618999999995',\n",
       "  'trip_distance': '0.59999999999999998'},\n",
       " {'pickup_latitude': '40.721950999999997',\n",
       "  'pickup_longitude': '-73.844435000000004',\n",
       "  'trip_distance': '1.1000000000000001'},\n",
       " {'pickup_latitude': '40.732382000000001',\n",
       "  'pickup_longitude': '-74.001682000000002',\n",
       "  'trip_distance': '4.2000000000000002'},\n",
       " {'pickup_latitude': '40.76833899